{
 "cells": [
  {
   "cell_type": "code",
   "execution_count": 1,
   "id": "sticky-smooth",
   "metadata": {},
   "outputs": [],
   "source": [
    "import base64\n",
    "import json\n",
    "import logging\n",
    "import yaml\n",
    "\n",
    "logger = logging.getLogger()\n",
    "logger.setLevel(logging.INFO)"
   ]
  },
  {
   "cell_type": "code",
   "execution_count": 2,
   "id": "consolidated-agency",
   "metadata": {},
   "outputs": [],
   "source": [
    "creds = json.load(open('credentials/sandbox.json'))\n",
    "# creds = json.load(open('credentials/production.json'))\n"
   ]
  },
  {
   "cell_type": "code",
   "execution_count": null,
   "id": "mineral-visit",
   "metadata": {},
   "outputs": [],
   "source": []
  },
  {
   "cell_type": "code",
   "execution_count": null,
   "id": "differential-migration",
   "metadata": {},
   "outputs": [],
   "source": []
  },
  {
   "cell_type": "code",
   "execution_count": 3,
   "id": "brief-helmet",
   "metadata": {},
   "outputs": [],
   "source": [
    "from luluapi import LuluApiClient\n",
    "from luluapi import SANDBOX_BASE_URL"
   ]
  },
  {
   "cell_type": "code",
   "execution_count": 4,
   "id": "accessory-drove",
   "metadata": {},
   "outputs": [],
   "source": [
    "apiclient = LuluApiClient(\n",
    "    client_key=creds[\"client_key\"],\n",
    "    client_secret=creds[\"client_secret\"],\n",
    "    base_url=SANDBOX_BASE_URL)"
   ]
  },
  {
   "cell_type": "markdown",
   "id": "brutal-blackjack",
   "metadata": {},
   "source": [
    "## GET Print Jobs"
   ]
  },
  {
   "cell_type": "code",
   "execution_count": 5,
   "id": "potential-piano",
   "metadata": {},
   "outputs": [],
   "source": [
    "# apiclient.get_print_jobs()"
   ]
  },
  {
   "cell_type": "code",
   "execution_count": null,
   "id": "present-investment",
   "metadata": {},
   "outputs": [],
   "source": []
  },
  {
   "cell_type": "markdown",
   "id": "governmental-agency",
   "metadata": {},
   "source": [
    "## GET Print Shipping Options"
   ]
  },
  {
   "cell_type": "code",
   "execution_count": 6,
   "id": "alike-swiss",
   "metadata": {},
   "outputs": [],
   "source": [
    "# apiclient.get_print_shipping_options(iso_country_code='ca')"
   ]
  },
  {
   "cell_type": "code",
   "execution_count": null,
   "id": "verified-division",
   "metadata": {},
   "outputs": [],
   "source": []
  },
  {
   "cell_type": "code",
   "execution_count": null,
   "id": "middle-bedroom",
   "metadata": {},
   "outputs": [],
   "source": []
  },
  {
   "cell_type": "code",
   "execution_count": null,
   "id": "distributed-supply",
   "metadata": {},
   "outputs": [],
   "source": []
  },
  {
   "cell_type": "code",
   "execution_count": null,
   "id": "female-attribute",
   "metadata": {},
   "outputs": [],
   "source": []
  },
  {
   "cell_type": "code",
   "execution_count": null,
   "id": "supported-morgan",
   "metadata": {},
   "outputs": [],
   "source": []
  },
  {
   "cell_type": "markdown",
   "id": "binary-dryer",
   "metadata": {},
   "source": [
    "## Create print job"
   ]
  },
  {
   "cell_type": "code",
   "execution_count": 7,
   "id": "extreme-sudan",
   "metadata": {},
   "outputs": [
    {
     "name": "stdout",
     "output_type": "stream",
     "text": [
      "Print job with id=19742 sucessfully created.\n",
      "Go to  https://api.sandbox.lulu.com/19742  for payment.\n"
     ]
    },
    {
     "data": {
      "text/plain": [
       "{'id': 19742,\n",
       " 'line_items': [{'id': 34906,\n",
       "   'title': 'My Book',\n",
       "   'printable_normalization': {'interior': {'source_file': None,\n",
       "     'normalized_file': None,\n",
       "     'source_url': 'https://www.dropbox.com/s/r20orb8umqjzav9/lulu_trade_interior_template-32.pdf?dl=1&raw=1',\n",
       "     'source_md5sum': None,\n",
       "     'job_id': None,\n",
       "     'page_count': None},\n",
       "    'cover': {'source_file': None,\n",
       "     'normalized_file': None,\n",
       "     'source_url': 'https://www.dropbox.com/s/7bv6mg2tj0h3l0r/lulu_trade_perfect_template.pdf?dl=1&raw=1',\n",
       "     'source_md5sum': None,\n",
       "     'job_id': None,\n",
       "     'page_count': None},\n",
       "    'pod_package_id': '0600X0900BWSTDPB060UW444MXX'},\n",
       "   'status': {'name': 'CREATED',\n",
       "    'messages': {'info': 'Line Item is currently being validated'}},\n",
       "   'external_id': 'test-line-item',\n",
       "   'quantity': 1,\n",
       "   'printable_id': None,\n",
       "   'order_line_item_id': None,\n",
       "   'tracking_id': '',\n",
       "   'tracking_urls': None,\n",
       "   'pod_package_id': '0600X0900BWSTDPB060UW444MXX'}],\n",
       " 'shipping_level': 'GROUND',\n",
       " 'shipping_option_id': '607',\n",
       " 'status': {'name': 'CREATED',\n",
       "  'message': 'Print-job is currently being validated',\n",
       "  'changed': '2021-03-08T20:09:35.662668Z'},\n",
       " 'costs': {'shipping_cost': None,\n",
       "  'line_item_costs': None,\n",
       "  'total_cost_excl_tax': None,\n",
       "  'total_tax': None,\n",
       "  'total_cost_incl_tax': None,\n",
       "  'currency': None},\n",
       " 'parent_job_id': None,\n",
       " 'child_job_ids': [],\n",
       " 'estimated_shipping_dates': None,\n",
       " 'date_created': '2021-03-08T20:09:35.667346Z',\n",
       " 'date_modified': '2021-03-08T20:09:35.705944Z',\n",
       " 'external_id': 'test-print-job',\n",
       " 'order_id': None,\n",
       " 'dropship_profile_id': '7e914864-78e4-4fae-bf0c-a10574143885',\n",
       " 'contact_email': 'printops@your.org',\n",
       " 'production_delay': 30,\n",
       " 'production_due_time': None,\n",
       " 'tax_country': None,\n",
       " 'shipping_address': {'user_id': '111595332',\n",
       "  'organization': None,\n",
       "  'street1': 'Street address 1',\n",
       "  'street2': '(optional) street address second line',\n",
       "  'city': 'Lübeck',\n",
       "  'postcode': 'H1A 2A1',\n",
       "  'phone_number': '844-212-0689',\n",
       "  'email': None,\n",
       "  'is_business': False,\n",
       "  'name': 'Hans Dampf',\n",
       "  'state_code': 'QC',\n",
       "  'country_code': 'CA'},\n",
       " 'shipping_option_level': 'GROUND'}"
      ]
     },
     "execution_count": 7,
     "metadata": {},
     "output_type": "execute_result"
    }
   ],
   "source": [
    "book = {\n",
    "   \"external_id\": \"test-line-item\",\n",
    "   \"title\": \"My Book\",\n",
    "   \"cover_source_url\": \"https://www.dropbox.com/s/7bv6mg2tj0h3l0r/lulu_trade_perfect_template.pdf?dl=1&raw=1\",\n",
    "   \"interior_source_url\": \"https://www.dropbox.com/s/r20orb8umqjzav9/lulu_trade_interior_template-32.pdf?dl=1&raw=1\",\n",
    "   \"pod_package_id\": \"0600X0900BWSTDPB060UW444MXX\",\n",
    "   \"quantity\": 1,\n",
    "}\n",
    "books = [book]  # a print job can include multiple books\n",
    "\n",
    "address = {\n",
    "   \"name\": \"Hans Dampf\",\n",
    "   \"street1\": \"Street address 1\",\n",
    "   \"street2\": \"(optional) street address second line\",\n",
    "   \"city\": \"L\\u00fcbeck\",\n",
    "   \"postcode\": \"H1A 2A1\",\n",
    "   \"state_code\": \"QC\",\n",
    "   \"country_code\": \"CA\",\n",
    "   \"phone_number\": \"844-212-0689\",\n",
    "}\n",
    "\n",
    "\n",
    "apiclient.create_print_job(address, books, shipping_level=\"GROUND\", external_id=\"test-print-job\")\n",
    "\n"
   ]
  },
  {
   "cell_type": "code",
   "execution_count": 8,
   "id": "indonesian-concept",
   "metadata": {
    "scrolled": false
   },
   "outputs": [],
   "source": [
    "# data = apiclient.get_print_jobs()\n",
    "# import pprint\n",
    "# pprint.pprint(data)"
   ]
  },
  {
   "cell_type": "code",
   "execution_count": null,
   "id": "beginning-lloyd",
   "metadata": {},
   "outputs": [],
   "source": []
  }
 ],
 "metadata": {
  "kernelspec": {
   "display_name": "Python 3",
   "language": "python",
   "name": "python3"
  },
  "language_info": {
   "codemirror_mode": {
    "name": "ipython",
    "version": 3
   },
   "file_extension": ".py",
   "mimetype": "text/x-python",
   "name": "python",
   "nbconvert_exporter": "python",
   "pygments_lexer": "ipython3",
   "version": "3.6.9"
  }
 },
 "nbformat": 4,
 "nbformat_minor": 5
}
