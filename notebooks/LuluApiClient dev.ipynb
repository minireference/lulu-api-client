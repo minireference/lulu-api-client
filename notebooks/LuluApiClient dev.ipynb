{
 "cells": [
  {
   "cell_type": "code",
   "execution_count": 1,
   "id": "sticky-smooth",
   "metadata": {},
   "outputs": [],
   "source": [
    "import base64\n",
    "import json\n",
    "import logging\n",
    "logger = logging.getLogger()\n",
    "logger.setLevel(logging.INFO)"
   ]
  },
  {
   "cell_type": "code",
   "execution_count": 2,
   "id": "consolidated-agency",
   "metadata": {},
   "outputs": [],
   "source": [
    "\n",
    "creds = json.load(open('credentials/sandbox.json'))"
   ]
  },
  {
   "cell_type": "code",
   "execution_count": 3,
   "id": "egyptian-letter",
   "metadata": {},
   "outputs": [
    {
     "data": {
      "text/plain": [
       "dict_keys(['client_key', 'client_secret', 'combined_base64'])"
      ]
     },
     "execution_count": 3,
     "metadata": {},
     "output_type": "execute_result"
    }
   ],
   "source": [
    "creds.keys()"
   ]
  },
  {
   "cell_type": "code",
   "execution_count": null,
   "id": "inside-preview",
   "metadata": {},
   "outputs": [],
   "source": []
  },
  {
   "cell_type": "code",
   "execution_count": null,
   "id": "mineral-visit",
   "metadata": {},
   "outputs": [],
   "source": []
  },
  {
   "cell_type": "code",
   "execution_count": null,
   "id": "differential-migration",
   "metadata": {},
   "outputs": [],
   "source": []
  },
  {
   "cell_type": "code",
   "execution_count": 4,
   "id": "brief-helmet",
   "metadata": {},
   "outputs": [],
   "source": [
    "from luluapi import LuluApiClient\n",
    "from luluapi import SANDBOX_BASE_URL"
   ]
  },
  {
   "cell_type": "code",
   "execution_count": 5,
   "id": "accessory-drove",
   "metadata": {},
   "outputs": [],
   "source": [
    "apiclient = LuluApiClient(\n",
    "    client_key=creds[\"client_key\"],\n",
    "    client_secret=creds[\"client_secret\"],\n",
    "    base_url=SANDBOX_BASE_URL)"
   ]
  },
  {
   "cell_type": "code",
   "execution_count": 6,
   "id": "terminal-basic",
   "metadata": {},
   "outputs": [],
   "source": [
    "# apiclient.bearer_token"
   ]
  },
  {
   "cell_type": "code",
   "execution_count": 7,
   "id": "potential-piano",
   "metadata": {},
   "outputs": [
    {
     "data": {
      "text/plain": [
       "[]"
      ]
     },
     "execution_count": 7,
     "metadata": {},
     "output_type": "execute_result"
    }
   ],
   "source": [
    "apiclient.get_print_jobs()"
   ]
  },
  {
   "cell_type": "code",
   "execution_count": null,
   "id": "active-january",
   "metadata": {},
   "outputs": [],
   "source": []
  },
  {
   "cell_type": "code",
   "execution_count": null,
   "id": "alike-swiss",
   "metadata": {},
   "outputs": [],
   "source": []
  }
 ],
 "metadata": {
  "kernelspec": {
   "display_name": "Python 3",
   "language": "python",
   "name": "python3"
  },
  "language_info": {
   "codemirror_mode": {
    "name": "ipython",
    "version": 3
   },
   "file_extension": ".py",
   "mimetype": "text/x-python",
   "name": "python",
   "nbconvert_exporter": "python",
   "pygments_lexer": "ipython3",
   "version": "3.6.9"
  }
 },
 "nbformat": 4,
 "nbformat_minor": 5
}
